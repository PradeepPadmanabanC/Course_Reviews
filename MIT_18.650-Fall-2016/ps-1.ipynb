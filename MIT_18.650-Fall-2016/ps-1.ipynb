{
 "cells": [
  {
   "cell_type": "markdown",
   "id": "768b029b",
   "metadata": {},
   "source": [
    "# 18.650. Statistics for Applications Fall 2016. Problem Set 1"
   ]
  },
  {
   "cell_type": "markdown",
   "id": "fa485c7b",
   "metadata": {},
   "source": [
    "### Problem 1: Convergence of random variables\n",
    "\n",
    "1. For $ n \\in \\mathbb{N}^* $, let $ X_n $ be a random variable such that \n",
    "   $\n",
    "   \\mathbb{P} \\left[ X_n = \\frac{1}{n} \\right] = 1 - \\frac{1}{n^2}\n",
    "   $\n",
    "   and \n",
    "   $\n",
    "   \\mathbb{P} \\left[ X_n = n \\right] = \\frac{1}{n^2}.\n",
    "   $\n",
    "   Does $ X_n $ converge in probability? In $ L^2 $?\n"
   ]
  },
  {
   "cell_type": "markdown",
   "id": "dc6bf186",
   "metadata": {},
   "source": [
    "\n",
    " **1. Convergence in Probability**  \n",
    "\n",
    "\n",
    "**Definition:**  \n",
    "$ X_n \\xrightarrow{\\text{P}} X $ if for every $ \\epsilon > 0 $,  \n",
    "$$\n",
    "\\lim_{n \\to \\infty} \\mathbb{P}(|X_n - X| > \\epsilon) = 0.  \n",
    "$$\n",
    "\n",
    "**Claim:** $ X_n \\xrightarrow{\\text{P}} 0 $.  \n",
    "\n",
    "**Proof:**  \n",
    "Let $ \\epsilon > 0 $. We analyze $ \\mathbb{P}(|X_n| > \\epsilon) $:  \n",
    "- For large $ n $, $ \\frac{1}{n} < \\epsilon $ (since $ \\frac{1}{n} \\to 0 $).  \n",
    "- $ |X_n| > \\epsilon $ only occurs when $ X_n = n $, which has probability $ \\frac{1}{n^2} $.  \n",
    "\n",
    "Thus,  \n",
    "$$\n",
    "\\mathbb{P}(|X_n| > \\epsilon) = \\mathbb{P}(X_n = n) = \\frac{1}{n^2} \\to 0 \\quad \\text{as} \\quad n \\to \\infty.  \n",
    "$$  \n",
    "Therefore, $ X_n \\xrightarrow{\\text{P}} 0 $.  \n",
    "\n",
    " **2. Convergence in $ L^2 $ (Mean-Square)**  \n",
    "**Definition:**  \n",
    "$ X_n \\xrightarrow{L^2} X $ if:  \n",
    "$$\n",
    "\\lim_{n \\to \\infty} \\mathbb{E}\\left[|X_n - X|^2\\right] = 0.  \n",
    "$$\n",
    "\n",
    "**Claim:** $ X_n $ **does not converge in $ L^2 $** to any limit.  \n",
    "\n",
    "**Proof:**  \n",
    "First, compute $ \\mathbb{E}[X_n^2] $:  \n",
    "$$\n",
    "\\mathbb{E}[X_n^2] = \\left(\\frac{1}{n}\\right)^2 \\left(1 - \\frac{1}{n^2}\\right) + n^2 \\cdot \\frac{1}{n^2} = \\frac{1}{n^2} - \\frac{1}{n^4} + 1.  \n",
    "$$  \n",
    "As $ n \\to \\infty $,  \n",
    "$$\n",
    "\\mathbb{E}[X_n^2] \\to 1.  \n",
    "$$  \n",
    "For $ X_n \\xrightarrow{L^2} 0 $, we'd need $ \\mathbb{E}[X_n^2] \\to 0 $. Since the limit is $ 1 $, **$ L^2 $-convergence fails**.  \n",
    "\n",
    "**Is there another possible limit?**  \n",
    "Suppose $ X_n \\xrightarrow{L^2} c $ (constant). Then:  \n",
    "$$\n",
    "\\mathbb{E}[(X_n - c)^2] = \\mathbb{E}[X_n^2] - 2c \\mathbb{E}[X_n] + c^2.  \n",
    "$$  \n",
    "Compute $ \\mathbb{E}[X_n] $:  \n",
    "$$\n",
    "\\mathbb{E}[X_n] = \\frac{1}{n}\\left(1 - \\frac{1}{n^2}\\right) + n \\cdot \\frac{1}{n^2} = \\frac{2}{n} - \\frac{1}{n^3} \\to 0.  \n",
    "$$  \n",
    "Thus,  \n",
    "$$\n",
    "\\mathbb{E}[(X_n - c)^2] \\to 1 + c^2.  \n",
    "$$  \n",
    "For this to converge to $ 0 $, we'd need $ c^2 = -1 $, which is impossible. Hence, **no $ L^2 $-convergence**.  \n",
    "\n",
    "### **Summary of Results**  \n",
    "| Convergence Type | Result                     |  \n",
    "|------------------|----------------------------|  \n",
    "| **In Probability** | $ X_n \\xrightarrow{\\text{P}} 0 $ |  \n",
    "| **In $ L^2 $**   | **Does not converge**      |  \n",
    "\n",
    "### **Key Insight**  \n",
    "- **Why $ L^2 $ fails**: The rare event $ X_n = n $ (with probability $ \\frac{1}{n^2} $) contributes $ n^2 \\cdot \\frac{1}{n^2} = 1 $ to $ \\mathbb{E}[X_n^2] $, preventing it from vanishing.  \n",
    "- **Probability vs. $ L^2 $**: Convergence in probability does not imply $ L^2 $-convergence, as this example shows.  "
   ]
  }
 ],
 "metadata": {
  "kernelspec": {
   "display_name": ".venv",
   "language": "python",
   "name": "python3"
  },
  "language_info": {
   "codemirror_mode": {
    "name": "ipython",
    "version": 3
   },
   "file_extension": ".py",
   "mimetype": "text/x-python",
   "name": "python",
   "nbconvert_exporter": "python",
   "pygments_lexer": "ipython3",
   "version": "3.9.5"
  }
 },
 "nbformat": 4,
 "nbformat_minor": 5
}
