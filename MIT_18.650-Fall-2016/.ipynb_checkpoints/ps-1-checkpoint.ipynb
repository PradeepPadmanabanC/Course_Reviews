{
 "cells": [
  {
   "cell_type": "markdown",
   "id": "768b029b",
   "metadata": {},
   "source": [
    "# 18.650. Statistics for Applications Fall 2016. Problem Set 1"
   ]
  },
  {
   "cell_type": "markdown",
   "id": "fa485c7b",
   "metadata": {},
   "source": [
    "### Problem 1: Convergence of random variables\n",
    "\n",
    "1. For \\( n \\in \\mathbb{N}^* \\), let \\( X_n \\) be a random variable such that \n",
    "   \\[\n",
    "   \\mathbb{P} \\left[ X_n = \\frac{1}{n} \\right] = 1 - \\frac{1}{n^2}\n",
    "   \\]\n",
    "   and \n",
    "   \\[\n",
    "   \\mathbb{P} \\left[ X_n = n \\right] = \\frac{1}{n^2}.\n",
    "   \\]\n",
    "   Does \\( X_n \\) converge in probability? In \\( L^2 \\)?"
   ]
  }
 ],
 "metadata": {
  "kernelspec": {
   "display_name": ".venv",
   "language": "python",
   "name": "python3"
  },
  "language_info": {
   "codemirror_mode": {
    "name": "ipython",
    "version": 3
   },
   "file_extension": ".py",
   "mimetype": "text/x-python",
   "name": "python",
   "nbconvert_exporter": "python",
   "pygments_lexer": "ipython3",
   "version": "3.9.5"
  }
 },
 "nbformat": 4,
 "nbformat_minor": 5
}
